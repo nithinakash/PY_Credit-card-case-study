{
 "cells": [
  {
   "cell_type": "markdown",
   "id": "1d9371d8",
   "metadata": {},
   "source": [
    "## Required Packages"
   ]
  },
  {
   "cell_type": "code",
   "execution_count": 1,
   "id": "d4dadc4e",
   "metadata": {},
   "outputs": [],
   "source": [
    "import pandas as pd\n",
    "import numpy as np\n",
    "import matplotlib.pyplot as plt\n",
    "import seaborn as sns\n",
    "import datetime as dt"
   ]
  },
  {
   "cell_type": "markdown",
   "id": "025d916d",
   "metadata": {},
   "source": [
    "## Datasets"
   ]
  },
  {
   "cell_type": "code",
   "execution_count": 2,
   "id": "061e24d5",
   "metadata": {},
   "outputs": [],
   "source": [
    "cust = pd.read_csv('C:/Users/Nithin/Downloads/Python Foundation Case Study 2 - Credit Card Case Study/Customer Acqusition.csv')\n",
    "repay = pd.read_csv('C:/Users/Nithin/Downloads/Python Foundation Case Study 2 - Credit Card Case Study/Repayment.csv')\n",
    "spend = pd.read_csv('C:/Users/Nithin/Downloads/Python Foundation Case Study 2 - Credit Card Case Study/spend.csv')"
   ]
  },
  {
   "cell_type": "code",
   "execution_count": 3,
   "id": "d4a32df8",
   "metadata": {},
   "outputs": [],
   "source": [
    "cust_final = pd.merge(left=cust,right=repay,how='inner',left_on='Customer',right_on='Customer')\n",
    "cust_final = pd.merge(left=cust_final,right=spend,how='inner',left_on='Customer',right_on='Customer')"
   ]
  },
  {
   "cell_type": "code",
   "execution_count": 4,
   "id": "0fb4bcaa",
   "metadata": {},
   "outputs": [],
   "source": [
    "#Data Prep\n",
    "cust_final.drop(['No','SL No:','Sl No:','Unnamed: 4'],axis=1,inplace=True)\n",
    "cust_final.rename(columns={'Month_x':'Repay_mnth','Amount_x':'Repay_amt','Month_y':'Spend_mnth','Amount_y':'Spend_amt'},inplace=True)\n",
    "cust_final.Repay_mnth = pd.to_datetime(cust_final['Repay_mnth'])\n",
    "cust_final.Spend_mnth = pd.to_datetime(cust_final['Spend_mnth'])"
   ]
  },
  {
   "cell_type": "markdown",
   "id": "e8f70fb2",
   "metadata": {},
   "source": [
    "### 1.\tIn the above dataset,\n",
    "##### a.\tIncase age is less than 18, replace it with mean of age values.\n",
    "##### b.\tIncase spend amount is more than the limit, replace it with 50% of that customer’s limit. (customer’s limit provided in acquisition table is the per transaction limit on his card)\n",
    "##### c.\tIncase the repayment amount is more than the limit, replace the repayment with the limit."
   ]
  },
  {
   "cell_type": "code",
   "execution_count": 5,
   "id": "161e5ff4",
   "metadata": {},
   "outputs": [],
   "source": [
    "#a.\n",
    "cust_final.Age = np.where(cust_final.Age < 18, cust_final.Age.mean(), cust_final.Age)"
   ]
  },
  {
   "cell_type": "code",
   "execution_count": 6,
   "id": "cab2c8fe",
   "metadata": {},
   "outputs": [],
   "source": [
    "#b.\n",
    "cust_final.Spend_amt = np.where(cust_final.Spend_amt > cust_final.Limit, cust_final.Limit * 0.5 ,cust_final.Spend_amt)"
   ]
  },
  {
   "cell_type": "code",
   "execution_count": 7,
   "id": "91191227",
   "metadata": {},
   "outputs": [],
   "source": [
    "#c.\n",
    "cust_final.Repay_amt = np.where(cust_final.Repay_amt > cust_final.Limit, cust_final.Limit ,cust_final.Repay_amt)"
   ]
  },
  {
   "cell_type": "markdown",
   "id": "105dd28d",
   "metadata": {},
   "source": [
    "### 2. From the above dataset create the following summaries:\n",
    "##### a.\tHow many distinct customers exist?\n",
    "##### b.\tHow many distinct categories exist?\n",
    "##### c.\tWhat is the average monthly spend by customers?\n",
    "##### d.\tWhat is the average monthly repayment by customers?\n",
    "##### e.\tIf the monthly rate of interest is 2.9%, what is the profit for the bank for each month? (Profit is defined as interest earned on Monthly Profit. Monthly Profit = Monthly repayment – Monthly spend. Interest is earned only on positive profits and not on negative amounts)\n",
    "##### f.\tWhat are the top 5 product types?\n",
    "##### g.\tWhich city is having maximum spend?\n",
    "##### h.\tWhich age group is spending more money?\n",
    "##### i.\tWho are the top 10 customers in terms of repayment?\n"
   ]
  },
  {
   "cell_type": "code",
   "execution_count": 8,
   "id": "ceebdc2a",
   "metadata": {},
   "outputs": [
    {
     "data": {
      "text/plain": [
       "100"
      ]
     },
     "execution_count": 8,
     "metadata": {},
     "output_type": "execute_result"
    }
   ],
   "source": [
    "#a.\n",
    "cust_final.Customer.nunique()"
   ]
  },
  {
   "cell_type": "code",
   "execution_count": 9,
   "id": "683f10cc",
   "metadata": {},
   "outputs": [
    {
     "data": {
      "text/plain": [
       "3"
      ]
     },
     "execution_count": 9,
     "metadata": {},
     "output_type": "execute_result"
    }
   ],
   "source": [
    "#b.\n",
    "cust_final.Product.nunique()"
   ]
  },
  {
   "cell_type": "code",
   "execution_count": 11,
   "id": "a4224118",
   "metadata": {},
   "outputs": [],
   "source": [
    "df = cust_final\n",
    "df['spnd_mn'] = df.Spend_mnth.dt.month\n",
    "df['Rep_mn'] = df.Repay_mnth.dt.month"
   ]
  },
  {
   "cell_type": "code",
   "execution_count": 12,
   "id": "a70fb542",
   "metadata": {},
   "outputs": [
    {
     "data": {
      "text/plain": [
       "Customer  spnd_mn\n",
       "A1        1          46968085.98\n",
       "          2          15771212.10\n",
       "          4           9419373.00\n",
       "          5           6500543.58\n",
       "          8           6198697.80\n",
       "                        ...     \n",
       "A95       1            240401.50\n",
       "A96       1             54729.66\n",
       "A97       1              5000.00\n",
       "A98       1              5000.50\n",
       "A99       1              5001.00\n",
       "Name: Spend_amt, Length: 578, dtype: float64"
      ]
     },
     "execution_count": 12,
     "metadata": {},
     "output_type": "execute_result"
    }
   ],
   "source": [
    "#c.\n",
    "df.groupby(['Customer','spnd_mn']).Spend_amt.sum()"
   ]
  },
  {
   "cell_type": "code",
   "execution_count": 13,
   "id": "37d1b098",
   "metadata": {},
   "outputs": [
    {
     "data": {
      "text/plain": [
       "Customer  Rep_mn\n",
       "A1        1         43340513.22\n",
       "          2         14073728.40\n",
       "          4          9161084.88\n",
       "          7          5349181.32\n",
       "          9          3355695.00\n",
       "                       ...     \n",
       "A95       1           369405.96\n",
       "A96       1           100000.00\n",
       "A97       1            10000.00\n",
       "A98       1            10001.00\n",
       "A99       1            10002.00\n",
       "Name: Repay_amt, Length: 558, dtype: float64"
      ]
     },
     "execution_count": 13,
     "metadata": {},
     "output_type": "execute_result"
    }
   ],
   "source": [
    "#d.\n",
    "df.groupby(['Customer','Rep_mn']).Repay_amt.sum()"
   ]
  },
  {
   "cell_type": "code",
   "execution_count": 14,
   "id": "dda5f072",
   "metadata": {},
   "outputs": [],
   "source": [
    "df['Profit'] = df.Repay_amt - df.Spend_amt\n",
    "df['Profit'] = np.where(df.Profit < 0,0,df.Profit)"
   ]
  },
  {
   "cell_type": "code",
   "execution_count": 15,
   "id": "3192d242",
   "metadata": {},
   "outputs": [
    {
     "data": {
      "text/plain": [
       "Rep_mn\n",
       "1     1.380969e+07\n",
       "2     9.986722e+06\n",
       "3     8.321058e+06\n",
       "4     7.285015e+06\n",
       "5     1.468164e+07\n",
       "6     1.466216e+06\n",
       "7     2.202395e+06\n",
       "8     2.027576e+06\n",
       "9     1.440414e+06\n",
       "10    1.083109e+06\n",
       "11    3.414323e+06\n",
       "12    1.319981e+06\n",
       "Name: Profit, dtype: float64"
      ]
     },
     "execution_count": 15,
     "metadata": {},
     "output_type": "execute_result"
    }
   ],
   "source": [
    "#e.\n",
    "df.groupby('Rep_mn').Profit.sum()*0.029"
   ]
  },
  {
   "cell_type": "code",
   "execution_count": 29,
   "id": "c550032b",
   "metadata": {},
   "outputs": [
    {
     "data": {
      "text/plain": [
       "Type\n",
       "CAMERA          7.517011e+08\n",
       "PETRO           7.071549e+08\n",
       "FOOD            5.478835e+08\n",
       "AIR TICKET      5.401180e+08\n",
       "TRAIN TICKET    5.344239e+08\n",
       "Name: Spend_amt, dtype: float64"
      ]
     },
     "execution_count": 29,
     "metadata": {},
     "output_type": "execute_result"
    }
   ],
   "source": [
    "#f\n",
    "df.groupby('Type').Spend_amt.sum().sort_values(ascending=False).head(5)"
   ]
  },
  {
   "cell_type": "code",
   "execution_count": 28,
   "id": "8018be1c",
   "metadata": {},
   "outputs": [
    {
     "data": {
      "text/plain": [
       "City\n",
       "COCHIN    1.175903e+09\n",
       "Name: Spend_amt, dtype: float64"
      ]
     },
     "execution_count": 28,
     "metadata": {},
     "output_type": "execute_result"
    }
   ],
   "source": [
    "#g.\n",
    "df.groupby('City').Spend_amt.sum().sort_values(ascending=False).head(1)"
   ]
  },
  {
   "cell_type": "code",
   "execution_count": 32,
   "id": "67597ead",
   "metadata": {},
   "outputs": [
    {
     "data": {
      "text/plain": [
       "Age\n",
       "28.00000    6.154699e+08\n",
       "43.24941    4.596122e+08\n",
       "44.00000    3.420884e+08\n",
       "Name: Spend_amt, dtype: float64"
      ]
     },
     "execution_count": 32,
     "metadata": {},
     "output_type": "execute_result"
    }
   ],
   "source": [
    "#h.\n",
    "df.groupby('Age').Spend_amt.sum().sort_values(ascending=False).head(3)"
   ]
  },
  {
   "cell_type": "code",
   "execution_count": 34,
   "id": "e5192ecb",
   "metadata": {},
   "outputs": [
    {
     "data": {
      "text/plain": [
       "Customer\n",
       "A61    4.004874e+08\n",
       "A60    3.752990e+08\n",
       "A13    2.967320e+08\n",
       "A43    2.631860e+08\n",
       "A45    2.618984e+08\n",
       "A12    2.583776e+08\n",
       "A14    2.462413e+08\n",
       "A44    2.400866e+08\n",
       "A39    2.362970e+08\n",
       "A42    2.360793e+08\n",
       "Name: Repay_amt, dtype: float64"
      ]
     },
     "execution_count": 34,
     "metadata": {},
     "output_type": "execute_result"
    }
   ],
   "source": [
    "#i.\n",
    "df.groupby('Customer').Repay_amt.sum().sort_values(ascending=False).head(10)"
   ]
  },
  {
   "cell_type": "markdown",
   "id": "56694b46",
   "metadata": {},
   "source": [
    "### 3.\tCalculate the city wise spend on each product on yearly basis. Also include a graphical representation for the same."
   ]
  },
  {
   "cell_type": "code",
   "execution_count": 36,
   "id": "528b1c81",
   "metadata": {},
   "outputs": [],
   "source": [
    "df2 = cust_final\n",
    "df2['Yr'] = df2.Spend_mnth.dt.year\n",
    "cit_wise = pd.pivot_table(df2,index='City',columns=['Product','Yr'],values= 'Spend_amt',aggfunc='sum')"
   ]
  },
  {
   "cell_type": "code",
   "execution_count": 68,
   "id": "931f3f2a",
   "metadata": {},
   "outputs": [
    {
     "data": {
      "text/plain": [
       "<AxesSubplot:xlabel='City'>"
      ]
     },
     "execution_count": 68,
     "metadata": {},
     "output_type": "execute_result"
    },
    {
     "data": {
      "image/png": "[encoded data removed]",
      "text/plain": [
       "<Figure size 432x288 with 1 Axes>"
      ]
     },
     "metadata": {
      "needs_background": "light"
     },
     "output_type": "display_data"
    }
   ],
   "source": [
    "cit_wise.plot(kind = 'bar',stacked = True)"
   ]
  },
  {
   "cell_type": "markdown",
   "id": "78f04571",
   "metadata": {},
   "source": [
    "### 4.\tCreate graphs for\n",
    "##### a.\tMonthly comparison of total spends, city wise\n",
    "##### b.\tComparison of yearly spend on air tickets\n",
    "##### c.\tComparison of monthly spend for each product (look for any seasonality that exists in terms of spend)"
   ]
  },
  {
   "cell_type": "code",
   "execution_count": 73,
   "id": "02e660f0",
   "metadata": {},
   "outputs": [
    {
     "data": {
      "text/plain": [
       "<AxesSubplot:ylabel='City'>"
      ]
     },
     "execution_count": 73,
     "metadata": {},
     "output_type": "execute_result"
    },
    {
     "data": {
      "image/png": "[encoded data removed]",
      "text/plain": [
       "<Figure size 432x288 with 1 Axes>"
      ]
     },
     "metadata": {
      "needs_background": "light"
     },
     "output_type": "display_data"
    }
   ],
   "source": [
    "#a.\n",
    "pd.pivot_table(cust_final,index='City',columns='spnd_mn', values = 'Spend_amt').plot(kind = 'barh',stacked = True)"
   ]
  },
  {
   "cell_type": "code",
   "execution_count": 79,
   "id": "273e2e54",
   "metadata": {},
   "outputs": [
    {
     "data": {
      "text/plain": [
       "<AxesSubplot:xlabel='Yr'>"
      ]
     },
     "execution_count": 79,
     "metadata": {},
     "output_type": "execute_result"
    },
    {
     "data": {
      "image/png": "[encoded data removed]",
      "text/plain": [
       "<Figure size 432x288 with 1 Axes>"
      ]
     },
     "metadata": {
      "needs_background": "light"
     },
     "output_type": "display_data"
    }
   ],
   "source": [
    "#b.\n",
    "pd.pivot_table(cust_final[cust_final.Type == 'AIR TICKET'],values='Spend_amt',index= 'Yr' ).plot(kind='bar')"
   ]
  },
  {
   "cell_type": "code",
   "execution_count": 84,
   "id": "a207f412",
   "metadata": {},
   "outputs": [
    {
     "data": {
      "text/plain": [
       "<AxesSubplot:xlabel='spnd_mn'>"
      ]
     },
     "execution_count": 84,
     "metadata": {},
     "output_type": "execute_result"
    },
    {
     "data": {
      "image/png": "[encoded data removed]",
      "text/plain": [
       "<Figure size 432x288 with 1 Axes>"
      ]
     },
     "metadata": {
      "needs_background": "light"
     },
     "output_type": "display_data"
    }
   ],
   "source": [
    "#c.\n",
    "pd.pivot_table(cust_final,index='spnd_mn',columns='Product', values = 'Spend_amt').plot(kind = 'bar',stacked = True)"
   ]
  },
  {
   "cell_type": "markdown",
   "id": "960fa18a",
   "metadata": {},
   "source": [
    "### 5.\tWrite user defined PYTHON function to perform the following analysis:\n",
    "##### You need to find top 10 customers for each city in terms of their repayment amount by different products and by different time periods i.e. year or month. The user should be able to specify the product (Gold/Silver/Platinum) and time period (yearly or monthly) and the function should automatically take these inputs while identifying the top 10 customers.\n"
   ]
  },
  {
   "cell_type": "code",
   "execution_count": 95,
   "id": "bb4c8f1f",
   "metadata": {},
   "outputs": [],
   "source": [
    "cust_final['Rep_Yr'] = cust_final.Repay_mnth.dt.year"
   ]
  },
  {
   "cell_type": "code",
   "execution_count": 106,
   "id": "fe4a6a70",
   "metadata": {},
   "outputs": [
    {
     "name": "stdout",
     "output_type": "stream",
     "text": [
      "Enter product category in Gold/Silver/Platinum: Gold\n",
      "Enter time period in yearly/monthly: monthly\n"
     ]
    }
   ],
   "source": [
    "prod = input('Enter product category in Gold/Silver/Platinum: ')\n",
    "tim = input('Enter time period in yearly/monthly: ')"
   ]
  },
  {
   "cell_type": "code",
   "execution_count": 103,
   "id": "91fcfaba",
   "metadata": {},
   "outputs": [],
   "source": [
    "def Top10_cust (prod,tim):\n",
    "    if tim == 'monthly':\n",
    "        out = cust_final[cust_final.Product == prod].groupby(['Customer','City','Product','Rep_mn']).Repay_amt.sum().sort_values(ascending = False)\n",
    "    else :\n",
    "        out = cust_final[cust_final.Product == prod].groupby(['Customer','City','Product','Rep_Yr']).Repay_amt.sum().sort_values(ascending = False)\n",
    "    return out"
   ]
  },
  {
   "cell_type": "code",
   "execution_count": 109,
   "id": "30df8020",
   "metadata": {},
   "outputs": [
    {
     "data": {
      "text/plain": [
       "Customer  City       Product  Rep_mn\n",
       "A61       COCHIN     Gold     4         1.296887e+08\n",
       "A42       BOMBAY     Gold     5         1.024656e+08\n",
       "A60       CALCUTTA   Gold     1         9.369222e+07\n",
       "                              4         9.110750e+07\n",
       "A30       BANGALORE  Gold     5         8.333683e+07\n",
       "                                            ...     \n",
       "A88       BANGALORE  Gold     3         1.468213e+05\n",
       "A67       CHENNAI    Gold     1         1.356912e+05\n",
       "A42       BOMBAY     Gold     9         1.220721e+05\n",
       "A67       CHENNAI    Gold     5         1.112775e+05\n",
       "A90       COCHIN     Gold     4         1.099313e+05\n",
       "Name: Repay_amt, Length: 211, dtype: float64"
      ]
     },
     "execution_count": 109,
     "metadata": {},
     "output_type": "execute_result"
    }
   ],
   "source": [
    "Top10_cust (prod,tim)"
   ]
  }
 ],
 "metadata": {
  "kernelspec": {
   "display_name": "Python 3 (ipykernel)",
   "language": "python",
   "name": "python3"
  },
  "language_info": {
   "codemirror_mode": {
    "name": "ipython",
    "version": 3
   },
   "file_extension": ".py",
   "mimetype": "text/x-python",
   "name": "python",
   "nbconvert_exporter": "python",
   "pygments_lexer": "ipython3",
   "version": "3.9.7"
  }
 },
 "nbformat": 4,
 "nbformat_minor": 5
}
